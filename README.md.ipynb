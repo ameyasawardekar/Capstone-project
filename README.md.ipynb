{
  "nbformat": 4,
  "nbformat_minor": 0,
  "metadata": {
    "colab": {
      "provenance": [],
      "collapsed_sections": [
        "mDgbUHAGgjLW",
        "448CDAPjqfQr",
        "ijmpgYnKYklI",
        "-JiQyfWJYklI",
        "85gYPyotYoAp",
        "RoGjAbkUYoAp",
        "iky9q4vBYrdO",
        "F6T5p64dYrdO",
        "y-Ehk30pYrdP",
        "QHF8YVU7Yuh3",
        "GwzvFGzlYuh3",
        "qYpmQ266Yuh3",
        "bbFf2-_FphqN",
        "_ouA3fa0phqN",
        "Seke61FWphqN",
        "r2jJGEOYphqO",
        "gIfDvo9L0UH2"
      ],
      "include_colab_link": true
    },
    "kernelspec": {
      "name": "python3",
      "display_name": "Python 3"
    },
    "language_info": {
      "name": "python"
    }
  },
  "cells": [
    {
      "cell_type": "markdown",
      "metadata": {
        "id": "view-in-github",
        "colab_type": "text"
      },
      "source": [
        "<a href=\"https://colab.research.google.com/github/ameyasawardekar/Capstone-project/blob/main/README.md.ipynb\" target=\"_parent\"><img src=\"https://colab.research.google.com/assets/colab-badge.svg\" alt=\"Open In Colab\"/></a>"
      ]
    },
    {
      "cell_type": "markdown",
      "source": [
        "# **Project Name**    - AirBnb Bookings Analysis\n",
        "\n"
      ],
      "metadata": {
        "id": "vncDsAP0Gaoa"
      }
    },
    {
      "cell_type": "markdown",
      "source": [
        "##### **Project Type**    - EDA\n",
        "##### **Contribution**    - Individual\n"
      ],
      "metadata": {
        "id": "beRrZCGUAJYm"
      }
    },
    {
      "cell_type": "markdown",
      "source": [
        "\n",
        "GitHub Link - https://github.com/ameyasawardekar/Capstone-project/blob/main/Copy_of_Sample_EDA_Submission_Template.ipynb"
      ],
      "metadata": {
        "id": "l2NBibqZsX-S"
      }
    },
    {
      "cell_type": "markdown",
      "source": [
        "# **Project Summary -**"
      ],
      "metadata": {
        "id": "FJNUwmbgGyua"
      }
    },
    {
      "cell_type": "markdown",
      "source": [
        "\n",
        "Business Context\n",
        "\n",
        "Since 2008, guests and hosts have used Airbnb to expand on travelling possibilities and present a more unique, personalised way of experiencing the world. Today, Airbnb became one of a kind service that is used and recognized by the whole world. Data analysis on millions of listings provided through Airbnb is a crucial factor for the company. These millions of listings generate a lot of data - data that can be analysed and used for security, business decisions, understanding of customers' and providers' (hosts) behaviour and performance on the platform, guiding marketing initiatives, implementation of innovative additional services and much more. This dataset has around 49,000 observations in it with 16 columns and it is a mix of categorical and numeric values. Explore and analyse the data to discover key understandings."
      ],
      "metadata": {
        "id": "F6v_1wHtG2nS"
      }
    },
    {
      "cell_type": "markdown",
      "source": [
        "# **GitHub Link -**"
      ],
      "metadata": {
        "id": "w6K7xa23Elo4"
      }
    },
    {
      "cell_type": "markdown",
      "source": [
        "https://github.com/ameyasawardekar/Capstone-project/blob/main/Copy_of_Sample_EDA_Submission_Template.ipynb"
      ],
      "metadata": {
        "id": "h1o69JH3Eqqn"
      }
    },
    {
      "cell_type": "markdown",
      "source": [
        "# **Problem Statement**\n"
      ],
      "metadata": {
        "id": "yQaldy8SH6Dl"
      }
    },
    {
      "cell_type": "markdown",
      "source": [
        "**Write Problem Statement Here.**"
      ],
      "metadata": {
        "id": "DpeJGUA3kjGy"
      }
    },
    {
      "cell_type": "markdown",
      "source": [
        "BUSINESS PROBLEM OVERVIEW\n",
        "\n",
        "Airbnb, a pioneer in revolutionizing travel experiences since 2008, relies on the analysis of extensive data from millions of listings. With a dataset containing around 49,000 observations and 16 columns, featuring both categorical and numeric values, the company faces the challenge of extracting meaningful insights. The primary goal is to leverage this data for critical business functions, including security enhancements, strategic decision-making, understanding user behavior, and refining marketing strategies. The challenge lies in uncovering key patterns and trends within the dataset to inform and optimize various aspects of Airbnb's operations."
      ],
      "metadata": {
        "id": "xhUQUCHuwNUn"
      }
    },
    {
      "cell_type": "markdown",
      "source": [
        "#### **Define Your Business Objective?**"
      ],
      "metadata": {
        "id": "PH-0ReGfmX4f"
      }
    },
    {
      "cell_type": "markdown",
      "source": [
        "Security Enhancement, business decisions, understanding of customers' and providers' (hosts) behaviour and performance on the platform"
      ],
      "metadata": {
        "id": "PhDvGCAqmjP1"
      }
    },
    {
      "cell_type": "markdown",
      "source": [
        "# **General Guidelines** : -  "
      ],
      "metadata": {
        "id": "mDgbUHAGgjLW"
      }
    },
    {
      "cell_type": "markdown",
      "source": [
        "1.   Well-structured, formatted, and commented code is required.\n",
        "2.   Exception Handling, Production Grade Code & Deployment Ready Code will be a plus. Those students will be awarded some additional credits.\n",
        "     \n",
        "     The additional credits will have advantages over other students during Star Student selection.\n",
        "       \n",
        "             [ Note: - Deployment Ready Code is defined as, the whole .ipynb notebook should be executable in one go\n",
        "                       without a single error logged. ]\n",
        "\n",
        "3.   Each and every logic should have proper comments.\n",
        "4. You may add as many number of charts you want. Make Sure for each and every chart the following format should be answered.\n",
        "        \n",
        "\n",
        "```\n",
        "# Chart visualization code\n",
        "```\n",
        "            \n",
        "\n",
        "*   Why did you pick the specific chart?\n",
        "*   What is/are the insight(s) found from the chart?\n",
        "* Will the gained insights help creating a positive business impact?\n",
        "Are there any insights that lead to negative growth? Justify with specific reason.\n",
        "\n",
        "5. You have to create at least 20 logical & meaningful charts having important insights.\n",
        "\n",
        "\n",
        "[ Hints : - Do the Vizualization in  a structured way while following \"UBM\" Rule.\n",
        "\n",
        "U - Univariate Analysis,\n",
        "\n",
        "B - Bivariate Analysis (Numerical - Categorical, Numerical - Numerical, Categorical - Categorical)\n",
        "\n",
        "M - Multivariate Analysis\n",
        " ]\n",
        "\n",
        "\n",
        "\n"
      ],
      "metadata": {
        "id": "ZrxVaUj-hHfC"
      }
    },
    {
      "cell_type": "markdown",
      "source": [
        "# ***Let's Begin !***"
      ],
      "metadata": {
        "id": "O_i_v8NEhb9l"
      }
    },
    {
      "cell_type": "markdown",
      "source": [
        "## ***1. Know Your Data***"
      ],
      "metadata": {
        "id": "HhfV-JJviCcP"
      }
    },
    {
      "cell_type": "markdown",
      "source": [
        "### Import Libraries"
      ],
      "metadata": {
        "id": "Y3lxredqlCYt"
      }
    },
    {
      "cell_type": "code",
      "source": [
        "# Import Libraries\n",
        "import pandas as pd\n",
        "import numpy as np\n",
        "import matplotlib.pyplot as plt\n",
        "import seaborn as sns\n",
        "from google.colab import drive\n",
        "import warnings\n",
        "warnings.filterwarnings('ignore')\n"
      ],
      "metadata": {
        "id": "M8Vqi-pPk-HR"
      },
      "execution_count": null,
      "outputs": []
    },
    {
      "cell_type": "markdown",
      "source": [
        "### Dataset Loading"
      ],
      "metadata": {
        "id": "3RnN4peoiCZX"
      }
    },
    {
      "cell_type": "code",
      "source": [
        "# Load Dataset\n",
        "from google.colab import drive\n",
        "drive.mount('/content/drive/')"
      ],
      "metadata": {
        "id": "4CkvbW_SlZ_R"
      },
      "execution_count": null,
      "outputs": []
    },
    {
      "cell_type": "code",
      "source": [
        "df = pd.read_csv('/content/drive/MyDrive/Colab Notebooks/Airbnb NYC 2019.csv')"
      ],
      "metadata": {
        "id": "iQrBxwrCPz9p"
      },
      "execution_count": null,
      "outputs": []
    },
    {
      "cell_type": "markdown",
      "source": [
        "### Dataset First View"
      ],
      "metadata": {
        "id": "x71ZqKXriCWQ"
      }
    },
    {
      "cell_type": "code",
      "source": [
        "# Dataset First Look\n",
        "df.head()"
      ],
      "metadata": {
        "id": "LWNFOSvLl09H"
      },
      "execution_count": null,
      "outputs": []
    },
    {
      "cell_type": "markdown",
      "source": [
        "### Dataset Rows & Columns count"
      ],
      "metadata": {
        "id": "7hBIi_osiCS2"
      }
    },
    {
      "cell_type": "code",
      "source": [
        "# Dataset Rows & Columns count\n",
        "df.shape"
      ],
      "metadata": {
        "id": "Kllu7SJgmLij"
      },
      "execution_count": null,
      "outputs": []
    },
    {
      "cell_type": "markdown",
      "source": [
        "### Dataset Information"
      ],
      "metadata": {
        "id": "JlHwYmJAmNHm"
      }
    },
    {
      "cell_type": "code",
      "source": [
        "# Dataset Info\n",
        "df.info()"
      ],
      "metadata": {
        "id": "e9hRXRi6meOf"
      },
      "execution_count": null,
      "outputs": []
    },
    {
      "cell_type": "markdown",
      "source": [
        "#### Duplicate Values"
      ],
      "metadata": {
        "id": "35m5QtbWiB9F"
      }
    },
    {
      "cell_type": "code",
      "source": [
        "# Dataset Duplicate Value Count\n",
        "df.duplicated().sum()"
      ],
      "metadata": {
        "id": "1sLdpKYkmox0"
      },
      "execution_count": null,
      "outputs": []
    },
    {
      "cell_type": "markdown",
      "source": [
        "#### Missing Values/Null Values"
      ],
      "metadata": {
        "id": "PoPl-ycgm1ru"
      }
    },
    {
      "cell_type": "code",
      "source": [
        "# Missing Values/Null Values Count\n",
        "print(df.isnull().sum())"
      ],
      "metadata": {
        "id": "GgHWkxvamxVg"
      },
      "execution_count": null,
      "outputs": []
    },
    {
      "cell_type": "code",
      "source": [
        "# Visualizing the missing values\n",
        "# Checking Null Value by plotting Heatmap\n",
        "sns.heatmap(df.isnull(), cbar=False)"
      ],
      "metadata": {
        "id": "3q5wnI3om9sJ"
      },
      "execution_count": null,
      "outputs": []
    },
    {
      "cell_type": "markdown",
      "source": [
        "### What did you know about your dataset?"
      ],
      "metadata": {
        "id": "H0kj-8xxnORC"
      }
    },
    {
      "cell_type": "markdown",
      "source": [
        "Duplicates\n",
        "\n",
        "The dataset is free from any duplicate entries.\n",
        "\n",
        "Missing Values:\n",
        "\n",
        "name: 16 missing values host_name: 21 missing values last_review: 10,052 missing values reviews_per_month: 10,052 missing values"
      ],
      "metadata": {
        "id": "gfoNAAC-nUe_"
      }
    },
    {
      "cell_type": "markdown",
      "source": [
        "## ***2. Understanding Your Variables***"
      ],
      "metadata": {
        "id": "nA9Y7ga8ng1Z"
      }
    },
    {
      "cell_type": "code",
      "source": [
        "# Dataset Columns\n",
        "list(df.columns)"
      ],
      "metadata": {
        "id": "j7xfkqrt5Ag5"
      },
      "execution_count": null,
      "outputs": []
    },
    {
      "cell_type": "code",
      "source": [
        "# Dataset Describe\n",
        "df.describe()"
      ],
      "metadata": {
        "id": "DnOaZdaE5Q5t"
      },
      "execution_count": null,
      "outputs": []
    },
    {
      "cell_type": "markdown",
      "source": [
        "### Variables Description"
      ],
      "metadata": {
        "id": "PBTbrJXOngz2"
      }
    },
    {
      "cell_type": "markdown",
      "source": [
        "id : Unique identifier for each Airbnb listing.\n",
        "\n",
        "name : The name or title of the listing, often describing the property or its features.\n",
        "\n",
        "host_id : Unique identifier for each Airbnb host.\n",
        "\n",
        "host_name : The name of the host associated with the listing.\n",
        "\n",
        "neighbourhood_group : The borough or larger area of the city where the listing is located.\n",
        "\n",
        "neighbourhood : The specific neighborhood where the listing is situated.\n",
        "\n",
        "latitude : The geographical latitude coordinates of the listing.\n",
        "\n",
        "longitude : The geographical longitude coordinates of the listing.\n",
        "\n",
        "room_type : The type of room or accommodation offered (e.g., Entire home/apt, Private room).\n",
        "\n",
        "price : The nightly rental price for the listing.\n",
        "\n",
        "minimum_nights : The minimum number of nights required to book the listing.\n",
        "\n",
        "number_of_reviews : The total number of reviews received for the listing.\n",
        "\n",
        "last_review : The date of the last review received for the listing.\n",
        "\n",
        "reviews_per_month : The average number of reviews the listing receives per month.\n",
        "\n",
        "calculated_host_listings_count : The count of listings by the host.\n",
        "\n",
        "availability_365 : The number of days the listing is available for booking in a year."
      ],
      "metadata": {
        "id": "aJV4KIxSnxay"
      }
    },
    {
      "cell_type": "markdown",
      "source": [
        "### Check Unique Values for each variable."
      ],
      "metadata": {
        "id": "u3PMJOP6ngxN"
      }
    },
    {
      "cell_type": "code",
      "source": [
        "# Check Unique Values for each variable.\n",
        "for i in list(df.columns):\n",
        "  print(\"No. of unique values in \",i,\"is =\",df[i].nunique())"
      ],
      "metadata": {
        "id": "zms12Yq5n-jE"
      },
      "execution_count": null,
      "outputs": []
    },
    {
      "cell_type": "markdown",
      "source": [
        "## 3. ***Data Wrangling***"
      ],
      "metadata": {
        "id": "dauF4eBmngu3"
      }
    },
    {
      "cell_type": "markdown",
      "source": [
        "### Data Wrangling Code"
      ],
      "metadata": {
        "id": "bKJF3rekwFvQ"
      }
    },
    {
      "cell_type": "code",
      "source": [
        "# Write your code to make your dataset analysis ready.\n",
        "# Create a copy of the current dataset and assigning to df\n",
        "df_copy = df.copy()\n",
        "\n",
        "# Drop rows with missing values in 'name' and 'host_name'\n",
        "df_copy = df_copy.dropna(subset=['name', 'host_name'])\n",
        "\n",
        "# Impute missing values in 'last_review' and 'reviews_per_month' with appropriate values\n",
        "df_copy['last_review'].fillna('No reviews', inplace=True)\n",
        "df_copy['reviews_per_month'].fillna(0, inplace=True)\n"
      ],
      "metadata": {
        "id": "wk-9a2fpoLcV"
      },
      "execution_count": null,
      "outputs": []
    },
    {
      "cell_type": "code",
      "source": [
        "# Replace 'No reviews' with a default date (e.g., 1900-01-01)\n",
        "df_copy['last_review'] = df_copy['last_review'].replace('No reviews', '1900-01-01')\n",
        "\n",
        "# Convert 'last_review' to datetime format\n",
        "df_copy['last_review'] = pd.to_datetime(df_copy['last_review'])"
      ],
      "metadata": {
        "id": "CpVkVnHKYXSQ"
      },
      "execution_count": null,
      "outputs": []
    },
    {
      "cell_type": "code",
      "source": [
        "# Create a new feature 'total_reviews' by summing 'number_of_reviews' and 'reviews_per_month'\n",
        "df_copy['total_reviews'] = df_copy['number_of_reviews'] + df_copy['reviews_per_month']\n",
        "\n",
        "# Extract year and month from 'last_review'\n",
        "df_copy['last_review_year'] = df_copy['last_review'].dt.year\n",
        "df_copy['last_review_month'] = df_copy['last_review'].dt.month"
      ],
      "metadata": {
        "id": "xBqq8679YiyO"
      },
      "execution_count": null,
      "outputs": []
    },
    {
      "cell_type": "code",
      "source": [
        "df_copy"
      ],
      "metadata": {
        "id": "4b9iNCwVPWt6"
      },
      "execution_count": null,
      "outputs": []
    },
    {
      "cell_type": "markdown",
      "source": [
        "## ***4. Data Vizualization, Storytelling & Experimenting with charts : Understand the relationships between variables***"
      ],
      "metadata": {
        "id": "GF8Ens_Soomf"
      }
    },
    {
      "cell_type": "markdown",
      "source": [
        "#### Chart - 1 Average Price by Room Type\n"
      ],
      "metadata": {
        "id": "0wOQAZs5pc--"
      }
    },
    {
      "cell_type": "code",
      "source": [
        "# Chart - 1 visualization code\n",
        "# Group by 'room_type' and calculate average price\n",
        "avg_price_by_room_type = df_copy.groupby('room_type')['price'].mean().sort_values()\n",
        "\n",
        "# Plot average price by room type\n",
        "avg_price_by_room_type.plot(kind='bar', color='skyblue')\n",
        "plt.title('Average Price by Room Type')\n",
        "plt.xlabel('Room Type')\n",
        "plt.ylabel('Average Price')\n",
        "plt.show()"
      ],
      "metadata": {
        "id": "7v_ESjsspbW7"
      },
      "execution_count": null,
      "outputs": []
    },
    {
      "cell_type": "markdown",
      "source": [
        "##### 1. Why did you pick the specific chart?"
      ],
      "metadata": {
        "id": "K5QZ13OEpz2H"
      }
    },
    {
      "cell_type": "markdown",
      "source": [
        "This bar chart helps visualize the average price for different room types, providing insights into the pricing dynamics across different accommodation options. It is useful for understanding customer preferences and making decisions related to pricing strategies."
      ],
      "metadata": {
        "id": "XESiWehPqBRc"
      }
    },
    {
      "cell_type": "markdown",
      "source": [
        "##### 2. What is/are the insight(s) found from the chart?"
      ],
      "metadata": {
        "id": "lQ7QKXXCp7Bj"
      }
    },
    {
      "cell_type": "markdown",
      "source": [
        "The chart reveals that the average price for an \"Entire home/apt\" is higher compared to \"Private room\" or \"Shared room.\" This insight suggests that customers are willing to pay more for the privacy and exclusivity of having an entire home or apartment."
      ],
      "metadata": {
        "id": "C_j1G7yiqdRP"
      }
    },
    {
      "cell_type": "markdown",
      "source": [
        "##### 3. Will the gained insights help creating a positive business impact?\n",
        "Are there any insights that lead to negative growth? Justify with specific reason."
      ],
      "metadata": {
        "id": "448CDAPjqfQr"
      }
    },
    {
      "cell_type": "markdown",
      "source": [
        "Identifying the common price range and outliers allows Airbnb to set pricing guidelines. Addressing outliers can prevent potential customer dissatisfaction, while maintaining a competitive price range can attract a broader audience."
      ],
      "metadata": {
        "id": "3cspy4FjqxJW"
      }
    },
    {
      "cell_type": "markdown",
      "source": [
        "#### Chart - 2  Distribution of Prices:"
      ],
      "metadata": {
        "id": "KSlN3yHqYklG"
      }
    },
    {
      "cell_type": "code",
      "source": [
        "# Chart - 2 visualization code\n",
        "# Plot distribution of prices\n",
        "plt.figure(figsize=(10, 6))\n",
        "sns.histplot(df_copy['price'], color='skyblue')\n",
        "plt.title('Distribution of Prices')\n",
        "plt.xlabel('Price')\n",
        "plt.ylabel('Frequency')\n",
        "plt.xscale('log')  # Set x-axis scale to logarithmic\n",
        "plt.show()\n"
      ],
      "metadata": {
        "id": "R4YgtaqtYklH"
      },
      "execution_count": null,
      "outputs": []
    },
    {
      "cell_type": "markdown",
      "source": [
        "##### 1. Why did you pick the specific chart?"
      ],
      "metadata": {
        "id": "t6dVpIINYklI"
      }
    },
    {
      "cell_type": "markdown",
      "source": [
        "A histogram was chosen to visualize the distribution of prices, enabling a clear understanding of the common price ranges. This is valuable for identifying the price points that attract the most customers and optimizing pricing strategies"
      ],
      "metadata": {
        "id": "5aaW0BYyYklI"
      }
    },
    {
      "cell_type": "markdown",
      "source": [
        "##### 2. What is/are the insight(s) found from the chart?"
      ],
      "metadata": {
        "id": "ijmpgYnKYklI"
      }
    },
    {
      "cell_type": "markdown",
      "source": [
        "The distribution of prices is right-skewed, indicating that the majority of listings have lower prices, with a few outliers having higher prices. This insight helps in understanding the common price range and identifying potential outliers that may require further investigation."
      ],
      "metadata": {
        "id": "PSx9atu2YklI"
      }
    },
    {
      "cell_type": "markdown",
      "source": [
        "##### 3. Will the gained insights help creating a positive business impact?\n",
        "Are there any insights that lead to negative growth? Justify with specific reason."
      ],
      "metadata": {
        "id": "-JiQyfWJYklI"
      }
    },
    {
      "cell_type": "markdown",
      "source": [
        "Identifying the common price range and outliers allows Airbnb to set pricing guidelines. Addressing outliers can prevent potential customer dissatisfaction, while maintaining a competitive price range can attract a broader audience."
      ],
      "metadata": {
        "id": "BcBbebzrYklV"
      }
    },
    {
      "cell_type": "markdown",
      "source": [
        "#### Chart - 3 Reviews and Availability:"
      ],
      "metadata": {
        "id": "EM7whBJCYoAo"
      }
    },
    {
      "cell_type": "code",
      "source": [
        "# Chart - 3\n",
        "# Scatter plot of number of reviews vs. availability\n",
        "plt.scatter(df_copy['number_of_reviews'], df_copy['availability_365'], alpha=0.5, color='skyblue')\n",
        "plt.title('Number of Reviews vs. Availability')\n",
        "plt.xlabel('Number of Reviews')\n",
        "plt.ylabel('Availability (in days)')\n",
        "plt.show()"
      ],
      "metadata": {
        "id": "t6GMdE67YoAp"
      },
      "execution_count": null,
      "outputs": []
    },
    {
      "cell_type": "markdown",
      "source": [
        "##### 1. Why did you pick the specific chart?"
      ],
      "metadata": {
        "id": "fge-S5ZAYoAp"
      }
    },
    {
      "cell_type": "markdown",
      "source": [
        "The scatter plot illustrates the relationship between the number of reviews and the availability of listings. This can provide insights into customer engagement and whether high availability correlates with increased reviews. It aids in understanding how availability impacts customer interaction."
      ],
      "metadata": {
        "id": "5dBItgRVYoAp"
      }
    },
    {
      "cell_type": "markdown",
      "source": [
        "##### 2. What is/are the insight(s) found from the chart?"
      ],
      "metadata": {
        "id": "85gYPyotYoAp"
      }
    },
    {
      "cell_type": "markdown",
      "source": [
        "The scatter plot shows a scattered pattern, suggesting that there is no strong correlation between the number of reviews and the availability of listings. This insight indicates that availability alone may not be the primary factor influencing customer reviews, and other factors might contribute to customer satisfaction"
      ],
      "metadata": {
        "id": "4jstXR6OYoAp"
      }
    },
    {
      "cell_type": "markdown",
      "source": [
        "##### 3. Will the gained insights help creating a positive business impact?\n",
        "Are there any insights that lead to negative growth? Justify with specific reason."
      ],
      "metadata": {
        "id": "RoGjAbkUYoAp"
      }
    },
    {
      "cell_type": "markdown",
      "source": [
        "Recognizing that availability alone may not strongly correlate with customer reviews can guide Airbnb in developing strategies to enhance customer satisfaction. Focusing on other aspects such as service quality, amenities, or communication may be crucial for positive reviews."
      ],
      "metadata": {
        "id": "zfJ8IqMcYoAp"
      }
    },
    {
      "cell_type": "markdown",
      "source": [
        "#### Chart - 4 Host Behavior:"
      ],
      "metadata": {
        "id": "4Of9eVA-YrdM"
      }
    },
    {
      "cell_type": "code",
      "source": [
        "# Plot distribution of the number of listings by hosts with adjusted bins and logarithmic scale\n",
        "plt.figure(figsize=(12, 6))\n",
        "sns.histplot(df_copy['calculated_host_listings_count'], bins=np.logspace(0, 3, 30), kde=True, color='skyblue')\n",
        "plt.xscale('log')  # Use a logarithmic scale on the x-axis\n",
        "plt.title('Distribution of Number of Listings by Hosts')\n",
        "plt.xlabel('Number of Listings')\n",
        "plt.ylabel('Frequency')\n",
        "plt.show()"
      ],
      "metadata": {
        "id": "irlUoxc8YrdO"
      },
      "execution_count": null,
      "outputs": []
    },
    {
      "cell_type": "markdown",
      "source": [
        "##### 1. Why did you pick the specific chart?"
      ],
      "metadata": {
        "id": "iky9q4vBYrdO"
      }
    },
    {
      "cell_type": "markdown",
      "source": [
        "The histogram displays the distribution of the number of listings by hosts, revealing patterns in host behavior. Understanding the distribution can help in identifying superhosts, the majority of hosts' activity levels, and potential correlations with customer satisfaction or booking trends."
      ],
      "metadata": {
        "id": "aJRCwT6DYrdO"
      }
    },
    {
      "cell_type": "markdown",
      "source": [
        "##### 2. What is/are the insight(s) found from the chart?"
      ],
      "metadata": {
        "id": "F6T5p64dYrdO"
      }
    },
    {
      "cell_type": "markdown",
      "source": [
        "The histogram reveals that a significant number of hosts have a low number of listings, indicating that the platform has a diverse range of hosts, including occasional hosts with only a few listings. This insight is valuable for understanding the composition of hosts on the platform."
      ],
      "metadata": {
        "id": "Xx8WAJvtYrdO"
      }
    },
    {
      "cell_type": "markdown",
      "source": [
        "##### 3. Will the gained insights help creating a positive business impact?\n",
        "Are there any insights that lead to negative growth? Justify with specific reason."
      ],
      "metadata": {
        "id": "y-Ehk30pYrdP"
      }
    },
    {
      "cell_type": "markdown",
      "source": [
        "Understanding the distribution of hosts and their listing behaviors helps Airbnb tailor support and engagement strategies. Recognizing the diversity of hosts allows for personalized approaches, such as providing resources for new hosts or incentives for high-performing hosts."
      ],
      "metadata": {
        "id": "jLNxxz7MYrdP"
      }
    },
    {
      "cell_type": "markdown",
      "source": [
        "#### Chart - 5 Neighborhood Analysis:"
      ],
      "metadata": {
        "id": "bamQiAODYuh1"
      }
    },
    {
      "cell_type": "code",
      "source": [
        "# Group by 'neighbourhood' and calculate average price\n",
        "neighborhood_prices = df_copy.groupby('neighbourhood')['price'].mean().sort_values(ascending=False)\n",
        "\n",
        "# Specify the number of top neighborhoods to display\n",
        "top_n_neighborhoods = 50\n",
        "\n",
        "# Select the top N neighborhoods by average price\n",
        "top_neighborhoods_prices = neighborhood_prices.head(top_n_neighborhoods)\n",
        "\n",
        "# Plot horizontal bar chart for average price by the top N neighborhoods\n",
        "plt.figure(figsize=(10, 8))\n",
        "sns.barplot(x=top_neighborhoods_prices.values, y=top_neighborhoods_prices.index, palette='viridis')\n",
        "plt.title(f'Top {top_n_neighborhoods} Neighborhoods by Average Price')\n",
        "plt.xlabel('Average Price')\n",
        "plt.ylabel('Neighborhood')\n",
        "plt.show()"
      ],
      "metadata": {
        "id": "TIJwrbroYuh3"
      },
      "execution_count": null,
      "outputs": []
    },
    {
      "cell_type": "markdown",
      "source": [
        "##### 1. Why did you pick the specific chart?"
      ],
      "metadata": {
        "id": "QHF8YVU7Yuh3"
      }
    },
    {
      "cell_type": "markdown",
      "source": [
        "A bar chart was chosen for the neighborhood analysis because it effectively displays the average price and availability for each neighborhood. Bar charts are suitable for comparing values across different categories, making it easy to identify variations in metrics for various neighborhoods."
      ],
      "metadata": {
        "id": "dcxuIMRPYuh3"
      }
    },
    {
      "cell_type": "markdown",
      "source": [
        "##### 2. What is/are the insight(s) found from the chart?"
      ],
      "metadata": {
        "id": "GwzvFGzlYuh3"
      }
    },
    {
      "cell_type": "markdown",
      "source": [
        "The chart provides a visual comparison of average prices and availability across selected neighborhoods. Some neighborhoods may stand out with higher or lower average prices, and the availability metric helps in understanding the demand and supply dynamics in those areas."
      ],
      "metadata": {
        "id": "uyqkiB8YYuh3"
      }
    },
    {
      "cell_type": "markdown",
      "source": [
        "##### 3. Will the gained insights help creating a positive business impact?\n",
        "Are there any insights that lead to negative growth? Justify with specific reason."
      ],
      "metadata": {
        "id": "qYpmQ266Yuh3"
      }
    },
    {
      "cell_type": "markdown",
      "source": [
        "Yes, the gained insights can contribute to a positive business impact. By understanding the average price and availability in different neighborhoods, Airbnb can tailor its marketing strategies. For example, neighborhoods with high demand and lower average prices might be targeted for promotions to attract more customers. Similarly, neighborhoods with high availability could be analyzed to identify areas where demand might be increased through targeted marketing efforts. Overall, the insights from this chart can guide Airbnb in making data-driven decisions related to pricing strategies, promotional activities, and resource allocation based on neighborhood characteristics and customer preferences."
      ],
      "metadata": {
        "id": "_WtzZ_hCYuh4"
      }
    },
    {
      "cell_type": "markdown",
      "source": [
        "#### Chart - 6 distribution of room types"
      ],
      "metadata": {
        "id": "OH-pJp9IphqM"
      }
    },
    {
      "cell_type": "code",
      "source": [
        "import matplotlib.pyplot as plt\n",
        "\n",
        "# Count occurrences of each room type\n",
        "room_type_counts = df_copy['room_type'].value_counts()\n",
        "\n",
        "# Custom colors for the pie chart\n",
        "colors = ['lightskyblue', 'gold', 'lightcoral']\n",
        "\n",
        "# Create a pie chart with an edge line\n",
        "plt.pie(room_type_counts, labels=room_type_counts.index, autopct='%1.1f%%', startangle=90, colors=colors, shadow=False, wedgeprops=dict(edgecolor='w'))\n",
        "\n",
        "# Title for the chart\n",
        "plt.title('Room Type Distribution', fontsize=16, fontweight='bold')\n",
        "\n",
        "# Ensure the pie chart is a circle\n",
        "plt.axis('equal')\n",
        "\n",
        "# Display the chart\n",
        "plt.show()"
      ],
      "metadata": {
        "id": "kuRf4wtuphqN"
      },
      "execution_count": null,
      "outputs": []
    },
    {
      "cell_type": "markdown",
      "source": [
        "##### 1. Why did you pick the specific chart?"
      ],
      "metadata": {
        "id": "bbFf2-_FphqN"
      }
    },
    {
      "cell_type": "markdown",
      "source": [
        "A pie chart was chosen to visualize the distribution of room types because it is effective in conveying the proportional representation of different categories. Pie charts are suitable for showcasing the composition of a whole, making it easy to understand the relative share of each room type in the dataset."
      ],
      "metadata": {
        "id": "loh7H2nzphqN"
      }
    },
    {
      "cell_type": "markdown",
      "source": [
        "##### 2. What is/are the insight(s) found from the chart?"
      ],
      "metadata": {
        "id": "_ouA3fa0phqN"
      }
    },
    {
      "cell_type": "markdown",
      "source": [
        "The pie chart reveals the distribution of room types on Airbnb. It provides a clear view of the percentage share of entire homes/apartments, private rooms, shared rooms, and potentially other room types. This insight helps in understanding the popularity of different accommodation options on the platform."
      ],
      "metadata": {
        "id": "VECbqPI7phqN"
      }
    },
    {
      "cell_type": "markdown",
      "source": [
        "##### 3. Will the gained insights help creating a positive business impact?\n",
        "Are there any insights that lead to negative growth? Justify with specific reason."
      ],
      "metadata": {
        "id": "Seke61FWphqN"
      }
    },
    {
      "cell_type": "markdown",
      "source": [
        "Yes, the gained insights can positively impact the business. Understanding the distribution of room types allows Airbnb to tailor its platform, marketing, and promotional efforts to meet user preferences. For example, if private rooms are highly popular, Airbnb can emphasize and promote private room listings, potentially attracting more users and enhancing overall customer satisfaction. Overall, insights from the pie chart can guide strategic decisions, user experience enhancements, and targeted marketing efforts, aligning the platform more closely with user preferences and potentially increasing customer engagement."
      ],
      "metadata": {
        "id": "DW4_bGpfphqN"
      }
    },
    {
      "cell_type": "markdown",
      "source": [
        "#### Chart - 7 Pair Plot"
      ],
      "metadata": {
        "id": "PIIx-8_IphqN"
      }
    },
    {
      "cell_type": "code",
      "source": [
        "#Selecting a subset of numeric columns for pair plot\n",
        "selected_numeric_columns = ['price', 'minimum_nights', 'number_of_reviews']\n",
        "\n",
        "# Creating a pair plot\n",
        "plt.figure(figsize=(12, 8))\n",
        "sns.pairplot(df_copy[selected_numeric_columns])\n",
        "plt.suptitle('Pair Plot of Selected Numeric Variables', y=1.02)\n",
        "plt.show()"
      ],
      "metadata": {
        "id": "lqAIGUfyphqO"
      },
      "execution_count": null,
      "outputs": []
    },
    {
      "cell_type": "markdown",
      "source": [
        "##### 1. Why did you pick the specific chart?"
      ],
      "metadata": {
        "id": "t27r6nlMphqO"
      }
    },
    {
      "cell_type": "markdown",
      "source": [
        "A pair plot was chosen to visualize relationships between selected numeric variables ('price', 'minimum_nights', 'number_of_reviews', 'availability_365'). Pair plots allow for a comprehensive view of pairwise interactions, scatter plots for individual variables, and histograms for their distributions."
      ],
      "metadata": {
        "id": "iv6ro40sphqO"
      }
    },
    {
      "cell_type": "markdown",
      "source": [
        "##### 2. What is/are the insight(s) found from the chart?"
      ],
      "metadata": {
        "id": "r2jJGEOYphqO"
      }
    },
    {
      "cell_type": "markdown",
      "source": [
        "Scatter plots: Relationships between variables can be observed. For example, one might notice patterns or trends between 'price' and 'number_of_reviews'. Diagonal histograms: Distributions of individual variables provide insights into their spreads and central tendencies"
      ],
      "metadata": {
        "id": "Po6ZPi4hphqO"
      }
    },
    {
      "cell_type": "markdown",
      "source": [
        "##### 3. Will the gained insights help creating a positive business impact?\n",
        "Are there any insights that lead to negative growth? Justify with specific reason."
      ],
      "metadata": {
        "id": "b0JNsNcRphqO"
      }
    },
    {
      "cell_type": "markdown",
      "source": [
        "Answer Here"
      ],
      "metadata": {
        "id": "xvSq8iUTphqO"
      }
    },
    {
      "cell_type": "code",
      "source": [],
      "metadata": {
        "id": "xyC9zolEZNRQ"
      },
      "execution_count": null,
      "outputs": []
    },
    {
      "cell_type": "markdown",
      "source": [
        "## **5. Solution to Business Objective**"
      ],
      "metadata": {
        "id": "JcMwzZxoAimU"
      }
    },
    {
      "cell_type": "markdown",
      "source": [
        "#### What do you suggest the client to achieve Business Objective ?\n",
        "Explain Briefly."
      ],
      "metadata": {
        "id": "8G2x9gOozGDZ"
      }
    },
    {
      "cell_type": "markdown",
      "source": [
        "\n",
        "\n",
        "\n",
        "\n",
        "1.  Dynamic Pricing Strategy: Implement a dynamic pricing strategy based on neighborhood popularity, seasonal trends, and demand fluctuations. Regularly analyze and adjust prices to stay competitive and maximize revenue.\n",
        "\n",
        "2. Customer Feedback Loop: Establish a proactive communication approach with both guests and hosts. Encourage hosts to ask for feedback often and address concerns promptly. Use customer insights to enhance the overall experience.  \n",
        "\n",
        "3. Host Performance Optimization: Provide hosts with performance metrics and personalized recommendations. Guide them to adjust pricing, minimum nights, and availability to improve listing competitiveness.\n",
        "\n",
        "4. Neighborhood-Specific Marketing: Tailor marketing strategies to focus on popular neighborhoods identified through data analysis. Highlight positive customer reviews and promote these neighborhoods to attract more bookings.\n",
        "\n",
        "5. Innovative Additional Services: Explore opportunities for introducing innovative additional services based on customer preferences. Use data insights to identify areas where new services could enhance the Airbnb experience.\n",
        "\n",
        "6. Security and Trust Measures: Strengthen security measures for both guests and hosts. Implement strategies to build and maintain trust within the Airbnb community, enhancing the overall safety and satisfaction of users.\n",
        "\n",
        "7. Continuous Performance Monitoring: Establish a system for continuous monitoring of key performance indicators. Regularly adapt strategies based on changing market conditions, customer behaviors, and competitive landscapes.\n",
        "\n",
        "8. Data-Driven Decision-Making Culture: Foster a data-driven decision-making culture within the organization. Provide training and resources to teams for interpreting data insights and implementing them in daily operations.\n",
        "\n",
        "9. Optimized Customer Retention Offers: Periodically introduce targeted offers to retain both guests and hosts. Analyze churn patterns to identify reasons for attrition and design personalized offers to keep customers engaged.\n",
        "\n",
        "10. Enhanced Customer Support: Prioritize customer support efforts based on data analysis. Address issues related to poor network connectivity promptly and ensure a seamless experience for users.\n",
        "\n",
        "\n",
        "\n",
        "\n",
        "\n"
      ],
      "metadata": {
        "id": "pASKb0qOza21"
      }
    },
    {
      "cell_type": "markdown",
      "source": [
        "# **Conclusion**"
      ],
      "metadata": {
        "id": "gCX9965dhzqZ"
      }
    },
    {
      "cell_type": "markdown",
      "source": [
        "Write the conclusion here.\n",
        " The pricing strategy should be dynamic, adjusting based on neighborhood popularity, seasonal trends, and demand fluctuations.\n",
        "\n",
        "• Proactive communication with both guests and hosts is essential. Encourage hosts to solicit feedback regularly and address concerns promptly for an improved overall experience.\n",
        "\n",
        "• Optimize host performance by providing metrics and personalized recommendations. Guide hosts to adjust pricing, minimum nights, and availability to enhance listing competitiveness.\n",
        "\n",
        "• Tailor marketing efforts to focus on popular neighborhoods identified through data analysis. Promote positive customer reviews and highlight these neighborhoods to attract more bookings.\n",
        "\n",
        "• Explore opportunities for innovative additional services based on customer preferences. Utilize data insights to identify areas where new services could enhance the overall Airbnb experience.\n",
        "\n",
        "• Strengthen security measures for guests and hosts to build and maintain trust within the Airbnb community, enhancing overall safety and satisfaction.\n",
        "\n",
        "• Establish a continuous monitoring system for key performance indicators. Regularly adapt strategies based on changing market conditions, customer behaviors, and competitive landscapes.\n",
        "\n",
        "• Foster a data-driven decision-making culture within the organization. Provide training and resources for teams to interpret data insights and implement them in daily operations.\n",
        "\n",
        "• Periodically introduce targeted offers to retain both guests and hosts. Analyze churn patterns to identify reasons for attrition and design personalized offers to keep customers engaged.\n",
        "\n",
        "• Prioritize customer support efforts based on data analysis. Address issues related to poor network connectivity promptly and ensure a seamless experience for users."
      ],
      "metadata": {
        "id": "Fjb1IsQkh3yE"
      }
    },
    {
      "cell_type": "markdown",
      "source": [
        "### ***Hurrah! You have successfully completed your EDA Capstone Project !!!***"
      ],
      "metadata": {
        "id": "gIfDvo9L0UH2"
      }
    }
  ]
}