{
  "nbformat": 4,
  "nbformat_minor": 0,
  "metadata": {
    "colab": {
      "provenance": [],
      "authorship_tag": "ABX9TyNFePA9MkEXwyBVQWIbqUir",
      "include_colab_link": true
    },
    "kernelspec": {
      "name": "python3",
      "display_name": "Python 3"
    },
    "language_info": {
      "name": "python"
    }
  },
  "cells": [
    {
      "cell_type": "markdown",
      "metadata": {
        "id": "view-in-github",
        "colab_type": "text"
      },
      "source": [
        "<a href=\"https://colab.research.google.com/github/ameyasawardekar/Capstone-project/blob/main/Automated%20Comment%20Botnet.ipynb\" target=\"_parent\"><img src=\"https://colab.research.google.com/assets/colab-badge.svg\" alt=\"Open In Colab\"/></a>"
      ]
    },
    {
      "cell_type": "code",
      "execution_count": null,
      "metadata": {
        "colab": {
          "base_uri": "https://localhost:8080/"
        },
        "id": "iGgOzR1BLCpJ",
        "outputId": "16e247e6-f378-4ed0-fbe0-f69e5b84d3e7"
      },
      "outputs": [
        {
          "output_type": "stream",
          "name": "stdout",
          "text": [
            "Requirement already satisfied: selenium in /usr/local/lib/python3.10/dist-packages (4.21.0)\n",
            "Requirement already satisfied: urllib3[socks]<3,>=1.26 in /usr/local/lib/python3.10/dist-packages (from selenium) (2.0.7)\n",
            "Requirement already satisfied: trio~=0.17 in /usr/local/lib/python3.10/dist-packages (from selenium) (0.25.1)\n",
            "Requirement already satisfied: trio-websocket~=0.9 in /usr/local/lib/python3.10/dist-packages (from selenium) (0.11.1)\n",
            "Requirement already satisfied: certifi>=2021.10.8 in /usr/local/lib/python3.10/dist-packages (from selenium) (2024.6.2)\n",
            "Requirement already satisfied: typing_extensions>=4.9.0 in /usr/local/lib/python3.10/dist-packages (from selenium) (4.12.2)\n",
            "Requirement already satisfied: attrs>=23.2.0 in /usr/local/lib/python3.10/dist-packages (from trio~=0.17->selenium) (23.2.0)\n",
            "Requirement already satisfied: sortedcontainers in /usr/local/lib/python3.10/dist-packages (from trio~=0.17->selenium) (2.4.0)\n",
            "Requirement already satisfied: idna in /usr/local/lib/python3.10/dist-packages (from trio~=0.17->selenium) (3.7)\n",
            "Requirement already satisfied: outcome in /usr/local/lib/python3.10/dist-packages (from trio~=0.17->selenium) (1.3.0.post0)\n",
            "Requirement already satisfied: sniffio>=1.3.0 in /usr/local/lib/python3.10/dist-packages (from trio~=0.17->selenium) (1.3.1)\n",
            "Requirement already satisfied: exceptiongroup in /usr/local/lib/python3.10/dist-packages (from trio~=0.17->selenium) (1.2.1)\n",
            "Requirement already satisfied: wsproto>=0.14 in /usr/local/lib/python3.10/dist-packages (from trio-websocket~=0.9->selenium) (1.2.0)\n",
            "Requirement already satisfied: pysocks!=1.5.7,<2.0,>=1.5.6 in /usr/local/lib/python3.10/dist-packages (from urllib3[socks]<3,>=1.26->selenium) (1.7.1)\n",
            "Requirement already satisfied: h11<1,>=0.9.0 in /usr/local/lib/python3.10/dist-packages (from wsproto>=0.14->trio-websocket~=0.9->selenium) (0.14.0)\n"
          ]
        }
      ],
      "source": [
        "pip install selenium\n"
      ]
    },
    {
      "cell_type": "code",
      "source": [
        "pip install webdriver-manager"
      ],
      "metadata": {
        "colab": {
          "base_uri": "https://localhost:8080/"
        },
        "id": "GwoAPiYQMQtn",
        "outputId": "cdf33cef-9acd-4d6d-ad27-0f2f9d14fe6f"
      },
      "execution_count": null,
      "outputs": [
        {
          "output_type": "stream",
          "name": "stdout",
          "text": [
            "Collecting webdriver-manager\n",
            "  Downloading webdriver_manager-4.0.1-py2.py3-none-any.whl (27 kB)\n",
            "Requirement already satisfied: requests in /usr/local/lib/python3.10/dist-packages (from webdriver-manager) (2.31.0)\n",
            "Collecting python-dotenv (from webdriver-manager)\n",
            "  Downloading python_dotenv-1.0.1-py3-none-any.whl (19 kB)\n",
            "Requirement already satisfied: packaging in /usr/local/lib/python3.10/dist-packages (from webdriver-manager) (24.1)\n",
            "Requirement already satisfied: charset-normalizer<4,>=2 in /usr/local/lib/python3.10/dist-packages (from requests->webdriver-manager) (3.3.2)\n",
            "Requirement already satisfied: idna<4,>=2.5 in /usr/local/lib/python3.10/dist-packages (from requests->webdriver-manager) (3.7)\n",
            "Requirement already satisfied: urllib3<3,>=1.21.1 in /usr/local/lib/python3.10/dist-packages (from requests->webdriver-manager) (2.0.7)\n",
            "Requirement already satisfied: certifi>=2017.4.17 in /usr/local/lib/python3.10/dist-packages (from requests->webdriver-manager) (2024.6.2)\n",
            "Installing collected packages: python-dotenv, webdriver-manager\n",
            "Successfully installed python-dotenv-1.0.1 webdriver-manager-4.0.1\n"
          ]
        }
      ]
    },
    {
      "cell_type": "code",
      "source": [
        "from selenium import webdriver\n",
        "from selenium.webdriver.common.by import By\n",
        "from selenium.webdriver.common.keys import Keys\n",
        "from selenium.webdriver.chrome.service import Service as ChromeService\n",
        "from webdriver_manager.chrome import ChromeDriverManager\n",
        "from selenium.webdriver.support.ui import WebDriverWait\n",
        "from selenium.webdriver.support import expected_conditions as EC\n",
        "import time\n",
        "\n"
      ],
      "metadata": {
        "id": "ic5aJsZ-LsNX"
      },
      "execution_count": null,
      "outputs": []
    },
    {
      "cell_type": "code",
      "source": [
        "# Replace with the actual URL and credentials if needed\n",
        "PUMP_FUN_URL = \"https://pump.fun\"\n",
        "COMMENT_TEXT = \"Check out this amazing trading bot on Pump.fun! [https://pump.fun]\"\n",
        "\n",
        "# Initialize the WebDriver\n",
        "driver = webdriver.Chrome(service=ChromeService(ChromeDriverManager().install()))\n",
        "wait = WebDriverWait(driver, 10)\n",
        "\n",
        "def create_wallet():\n",
        "    # Placeholder for wallet creation logic\n",
        "    # Replace with actual wallet creation code\n",
        "    print(\"Creating wallet...\")\n",
        "    time.sleep(2)  # Simulate time taken to create a wallet\n",
        "    wallet_address = \"generated_wallet_address\"  # Replace with actual wallet address\n",
        "    return wallet_address\n",
        "\n",
        "def connect_wallet(wallet_address):\n",
        "    # Navigate to Pump.fun\n",
        "    driver.get(PUMP_FUN_URL)\n",
        "\n",
        "    # Example process of connecting a wallet\n",
        "    try:\n",
        "        # Locate the wallet connect button and click it\n",
        "        connect_button = wait.until(EC.element_to_be_clickable((By.XPATH, \"//button[contains(text(), 'Connect Wallet')]\")))\n",
        "        connect_button.click()\n",
        "\n",
        "        # Wait for the wallet connection modal to appear\n",
        "        time.sleep(2)\n",
        "\n",
        "        # Enter the wallet address (modify this according to the actual flow)\n",
        "        wallet_input = wait.until(EC.presence_of_element_located((By.ID, \"wallet_address_input\")))  # Update with the correct input field ID\n",
        "        wallet_input.send_keys(wallet_address)\n",
        "        wallet_input.send_keys(Keys.RETURN)\n",
        "\n",
        "        # Wait for the connection to complete\n",
        "        time.sleep(2)\n",
        "\n",
        "        print(\"Wallet connected successfully!\")\n",
        "    except Exception as e:\n",
        "        print(f\"Error connecting wallet: {e}\")\n",
        "\n",
        "def post_comment(comment_text):\n",
        "    try:\n",
        "        # Locate the comment input field\n",
        "        comment_input = wait.until(EC.presence_of_element_located((By.ID, \"comment_input\")))  # Update with the correct input field ID\n",
        "        comment_input.send_keys(comment_text)\n",
        "\n",
        "        # Locate and click the post button\n",
        "        post_button = wait.until(EC.element_to_be_clickable((By.XPATH, \"//button[contains(text(), 'Post Comment')]\")))\n",
        "        post_button.click()\n",
        "\n",
        "        # Wait for the comment to be posted\n",
        "        time.sleep(2)\n",
        "\n",
        "        print(\"Comment posted successfully!\")\n",
        "    except Exception as e:\n",
        "        print(f\"Error posting comment: {e}\")\n",
        "\n",
        "def main():\n",
        "    try:\n",
        "        wallet_address = create_wallet()\n",
        "        connect_wallet(wallet_address)\n",
        "        post_comment(COMMENT_TEXT)\n",
        "    except Exception as e:\n",
        "        print(f\"An error occurred: {e}\")\n",
        "    finally:\n",
        "        driver.quit()\n",
        "\n",
        "if __name__ == \"__main__\":\n",
        "    main()\n"
      ],
      "metadata": {
        "colab": {
          "base_uri": "https://localhost:8080/",
          "height": 106
        },
        "id": "Nm3V6oeNMgJH",
        "outputId": "717d25f5-5f22-42cf-8929-07f2fd3aa9d9"
      },
      "execution_count": null,
      "outputs": [
        {
          "output_type": "error",
          "ename": "SyntaxError",
          "evalue": "invalid syntax (<ipython-input-15-c8171c849e27>, line 3)",
          "traceback": [
            "\u001b[0;36m  File \u001b[0;32m\"<ipython-input-15-c8171c849e27>\"\u001b[0;36m, line \u001b[0;32m3\u001b[0m\n\u001b[0;31m    COMMENT_TEXT = \"Check out this amazing trading bot on Pump.fun! [\"https://pump.fun/board\"]\"\u001b[0m\n\u001b[0m                                                                      ^\u001b[0m\n\u001b[0;31mSyntaxError\u001b[0m\u001b[0;31m:\u001b[0m invalid syntax\n"
          ]
        }
      ]
    }
  ]
}